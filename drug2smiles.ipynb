{
 "cells": [
  {
   "cell_type": "code",
   "execution_count": 9,
   "id": "stable-niagara",
   "metadata": {},
   "outputs": [],
   "source": [
    "import pandas as pd\n",
    "import pubchempy as pcp\n",
    "import numpy as np"
   ]
  },
  {
   "cell_type": "code",
   "execution_count": 26,
   "id": "certain-publicity",
   "metadata": {},
   "outputs": [
    {
     "data": {
      "text/html": [
       "<div>\n",
       "<style scoped>\n",
       "    .dataframe tbody tr th:only-of-type {\n",
       "        vertical-align: middle;\n",
       "    }\n",
       "\n",
       "    .dataframe tbody tr th {\n",
       "        vertical-align: top;\n",
       "    }\n",
       "\n",
       "    .dataframe thead th {\n",
       "        text-align: right;\n",
       "    }\n",
       "</style>\n",
       "<table border=\"1\" class=\"dataframe\">\n",
       "  <thead>\n",
       "    <tr style=\"text-align: right;\">\n",
       "      <th></th>\n",
       "      <th>experiment_id</th>\n",
       "      <th>cell_id</th>\n",
       "      <th>drug_id</th>\n",
       "      <th>dataset_id</th>\n",
       "      <th>tissue_id</th>\n",
       "      <th>cell_name</th>\n",
       "      <th>drug_name</th>\n",
       "      <th>AAC</th>\n",
       "      <th>dataset_name</th>\n",
       "    </tr>\n",
       "  </thead>\n",
       "  <tbody>\n",
       "    <tr>\n",
       "      <th>0</th>\n",
       "      <td>1</td>\n",
       "      <td>2</td>\n",
       "      <td>21</td>\n",
       "      <td>1</td>\n",
       "      <td>9</td>\n",
       "      <td>1321N1</td>\n",
       "      <td>AEW541</td>\n",
       "      <td>0.101705</td>\n",
       "      <td>CCLE</td>\n",
       "    </tr>\n",
       "    <tr>\n",
       "      <th>1</th>\n",
       "      <td>2</td>\n",
       "      <td>12</td>\n",
       "      <td>21</td>\n",
       "      <td>1</td>\n",
       "      <td>28</td>\n",
       "      <td>22RV1</td>\n",
       "      <td>AEW541</td>\n",
       "      <td>0.223977</td>\n",
       "      <td>CCLE</td>\n",
       "    </tr>\n",
       "    <tr>\n",
       "      <th>2</th>\n",
       "      <td>3</td>\n",
       "      <td>16</td>\n",
       "      <td>21</td>\n",
       "      <td>1</td>\n",
       "      <td>9</td>\n",
       "      <td>42-MG-BA</td>\n",
       "      <td>AEW541</td>\n",
       "      <td>0.121595</td>\n",
       "      <td>CCLE</td>\n",
       "    </tr>\n",
       "    <tr>\n",
       "      <th>3</th>\n",
       "      <td>4</td>\n",
       "      <td>20</td>\n",
       "      <td>21</td>\n",
       "      <td>1</td>\n",
       "      <td>38</td>\n",
       "      <td>5637</td>\n",
       "      <td>AEW541</td>\n",
       "      <td>0.109245</td>\n",
       "      <td>CCLE</td>\n",
       "    </tr>\n",
       "    <tr>\n",
       "      <th>4</th>\n",
       "      <td>5</td>\n",
       "      <td>24</td>\n",
       "      <td>21</td>\n",
       "      <td>1</td>\n",
       "      <td>38</td>\n",
       "      <td>639-V</td>\n",
       "      <td>AEW541</td>\n",
       "      <td>0.191285</td>\n",
       "      <td>CCLE</td>\n",
       "    </tr>\n",
       "  </tbody>\n",
       "</table>\n",
       "</div>"
      ],
      "text/plain": [
       "   experiment_id  cell_id  drug_id  dataset_id  tissue_id cell_name drug_name  \\\n",
       "0              1        2       21           1          9    1321N1    AEW541   \n",
       "1              2       12       21           1         28     22RV1    AEW541   \n",
       "2              3       16       21           1          9  42-MG-BA    AEW541   \n",
       "3              4       20       21           1         38      5637    AEW541   \n",
       "4              5       24       21           1         38     639-V    AEW541   \n",
       "\n",
       "        AAC dataset_name  \n",
       "0  0.101705         CCLE  \n",
       "1  0.223977         CCLE  \n",
       "2  0.121595         CCLE  \n",
       "3  0.109245         CCLE  \n",
       "4  0.191285         CCLE  "
      ]
     },
     "execution_count": 26,
     "metadata": {},
     "output_type": "execute_result"
    }
   ],
   "source": [
    "df = pd.read_csv('data/drug_response.csv')\n",
    "df.head()"
   ]
  },
  {
   "cell_type": "code",
   "execution_count": 27,
   "id": "growing-brisbane",
   "metadata": {},
   "outputs": [
    {
     "data": {
      "text/plain": [
       "['AEW541',\n",
       " 'Nilotinib',\n",
       " '17-AAG',\n",
       " 'PHA-665752',\n",
       " 'lapatinib',\n",
       " 'Nutlin-3',\n",
       " 'AZD0530',\n",
       " 'Crizotinib',\n",
       " 'L-685458',\n",
       " 'Vandetanib']"
      ]
     },
     "execution_count": 27,
     "metadata": {},
     "output_type": "execute_result"
    }
   ],
   "source": [
    "drugs = list(df['drug_name'].unique())\n",
    "drugs[:10]"
   ]
  },
  {
   "cell_type": "code",
   "execution_count": 28,
   "id": "illegal-income",
   "metadata": {},
   "outputs": [
    {
     "name": "stdout",
     "output_type": "stream",
     "text": [
      "0\n",
      "XMD15-27 not found\n",
      "NPK76-II-72-1 not found\n",
      "Genentech Cpd 10 not found\n",
      "XMD14-99 not found\n",
      "THZ-2-49 not found\n",
      "TL-1-85 not found\n",
      "JNK-9L not found\n",
      "MPS-1-IN-1 not found\n",
      "50\n",
      "BHG712 not found\n",
      "KIN001-055 not found\n",
      "TL-2-105 not found\n",
      "JQ12 not found\n",
      "SB52334 not found\n",
      "100\n",
      "THZ-2-102-1 not found\n",
      "KIN001-244 not found\n",
      "QL-XI-92 not found\n",
      "KIN001-236 not found\n",
      "VNLG/124 not found\n",
      "WZ3105 not found\n",
      "KIN001-260 not found\n",
      "XMD13-2 not found\n",
      "QL-XII-47 not found\n",
      "KIN001-266 not found\n",
      "KIN001-270 not found\n",
      "KIN001-102 not found\n",
      "KIN001-135 not found\n",
      "150\n",
      "JW-7-24-1 not found\n",
      "JW-7-52-1 not found\n",
      "Lisitinib not found\n",
      "AUY922 not found\n",
      "WZ-1-84 not found\n",
      "rTRAIL not found\n",
      "200\n",
      "HG-5-113-01 not found\n",
      "XMD11-85h not found\n",
      "Cetuximab not found\n",
      "QL-XII-61 not found\n",
      "Cisplatin not found\n",
      "Nutlin-3a (-) not found\n",
      "681640 not found\n",
      "250\n",
      "QL-VIII-58 not found\n",
      "HG-5-88-01 not found\n",
      "Nelfivir not found\n",
      "Trichostatin.A not found\n",
      "IKK.16 not found\n",
      "ERKi II (FR180304) not found\n",
      "L-779405 not found\n",
      "Glycyl H1152 not found\n",
      "TCS2312 dihydrochloride not found\n",
      "Sigma AKT1-2 inhibitor not found\n",
      "Lestaurtinib(CEP-701) not found\n",
      "5-FdUR not found\n",
      "Valproic.acid not found\n",
      "300\n",
      "GSK1059868 not found\n",
      "GSK2119563 not found\n",
      "Tykerb:IGF1R (1:1) not found\n",
      "CIL55 not found\n",
      "350\n",
      "BRD-K94991378 not found\n",
      "BRD-K71935468 not found\n",
      "BRD-A94377914 not found\n",
      "BRD-K92856060 not found\n",
      "BRD-K45681478 not found\n",
      "CIL41 not found\n",
      "CIL70 not found\n",
      "BRD-K61166597 not found\n",
      "QW-BI-011 not found\n",
      "400\n",
      "BRD-K80183349 not found\n",
      "BRD-K66532283 not found\n",
      "BRD-K66453893 not found\n",
      "BRD-K11533227 not found\n",
      "BRD-K27224038 not found\n",
      "BRD-K14844214 not found\n",
      "BRD1835 not found\n",
      "BRD-K41597374 not found\n",
      "BRD-K63431240 not found\n",
      "BRD-K13999467 not found\n",
      "BRD-K96970199 not found\n",
      "16-beta-bromoandrosterone not found\n",
      "SR-II-138A not found\n",
      "Compound 7d-cis not found\n",
      "Compound 1541A not found\n",
      "BRD-K49290616 not found\n",
      "BRD-K02492147 not found\n",
      "BRD-K96431673 not found\n",
      "cyanoquinoline 11 not found\n",
      "Compound 23 citrate not found\n",
      "450\n",
      "BRD1812 not found\n",
      "BRD8958 not found\n",
      "CR-1-31B not found\n",
      "BRD-K71781559 not found\n",
      "BRD-K86535717 not found\n",
      "BRD-K48334597 not found\n",
      "ML312 not found\n",
      "BRD-K04800985 not found\n",
      "BRD-K78574327 not found\n",
      "BRD-K19103580 not found\n",
      "BRD-K30019337 not found\n",
      "BRD-K84807411 not found\n",
      "BRD-K44224150 not found\n",
      "BRD-K75293299 not found\n",
      "BRD-K64610608 not found\n",
      "BRD-K02251932 not found\n",
      "BRD-K55116708 not found\n",
      "BRD-K41334119 not found\n",
      "BRD-K34485477 not found\n",
      "BRD-K16147474 not found\n",
      "BRD-K29086754 not found\n",
      "BRD-K33199242 not found\n",
      "BRD-K52037352 not found\n",
      "BRD-K27986637 not found\n",
      "BRD-K37390332 not found\n",
      "PRIMA-1-Met not found\n",
      "BRD-K50799972 not found\n",
      "BRD-K17060750 not found\n",
      "BRD-K88742110 not found\n",
      "BRD8899 not found\n",
      "ELCPK not found\n",
      "NPC-26 not found\n",
      "500\n",
      "1S,3R-RSL-3 not found\n",
      "CIL55A not found\n",
      "FQI-2 not found\n",
      "PL-DI not found\n",
      "BRD-K51490254 not found\n",
      "BRD-K85133207 not found\n",
      "Repligen 136 not found\n",
      "BRD-K29313308 not found\n",
      "BRD-K24690302 not found\n",
      "BRD-K70511574 not found\n",
      "BRD-K20514654 not found\n",
      "BRD-K28456706 not found\n",
      "BRD-A02303741 not found\n",
      "ML320 not found\n",
      "BRD-K34099515 not found\n",
      "550\n",
      "FSC231 not found\n",
      "968 not found\n",
      "IPR-456 not found\n",
      "VU0155056 not found\n",
      "JQ-1:UNC0638 (2:1 mol/mol) not found\n",
      "vorinostat:carboplatin (1:1 mol/mol) not found\n",
      "serdemetan:SCH-529074 (1:1 mol/mol) not found\n",
      "selumetinib:PLX-4032 (8:1 mol/mol) not found\n",
      "sirolimus:bortezomib (250:1 mol/mol) not found\n",
      "BRD-K97651142 not found\n",
      "BRD-K79669418 not found\n",
      "BRD-K99584050 not found\n",
      "BRD-A71883111 not found\n",
      "navitoclax:birinapant (1:1 mol/mol) not found\n",
      "ISOX:bortezomib (250:1 mol/mol) not found\n",
      "selumetinib:GDC-0941 (4:1 mol/mol) not found\n",
      "selumetinib:tretinoin (2:1 mol/mol) not found\n",
      "selumetinib:vorinostat (8:1 mol/mol) not found\n",
      "selumetinib:BRD-A02303741 (4:1 mol/mol) not found\n",
      "tretinoin:navitoclax (4:1 mol/mol) not found\n",
      "decitabine:navitoclax (2:1 mol/mol) not found\n",
      "tretinoin:carboplatin (2:1 mol/mol) not found\n",
      "tanespimycin:gemcitabine (1:1 mol/mol) not found\n",
      "docetaxel:tanespimycin (2:1 mol/mol) not found\n",
      "selumetinib:MK-2206 (8:1 mol/mol) not found\n",
      "navitoclax:PLX-4032 (1:1 mol/mol) not found\n",
      "selumetinib:piperlongumine (8:1 mol/mol) not found\n",
      "tanespimycin:bortezomib (250:1 mol/mol) not found\n",
      "navitoclax:MST-312 (1:1 mol/mol) not found\n",
      "carboplatin:etoposide (40:17 mol/mol) not found\n",
      "piperlongumine:MST-312 (1:1 mol/mol) not found\n",
      "navitoclax:gemcitabine (1:1 mol/mol) not found\n",
      "BRD-K07442505 not found\n",
      "BRD-K35604418 not found\n",
      "navitoclax:pluripotin (1:1 mol/mol) not found\n",
      "600\n",
      "JQ-1:carboplatin (1:1 mol/mol) not found\n",
      "selumetinib:navitoclax (8:1 mol/mol) not found\n",
      "selumetinib:decitabine (4:1 mol/mol) not found\n",
      "SNX-2112:bortezomib (250:1 mol/mol) not found\n",
      "JQ-1:MK-0752 (1:1 mol/mol) not found\n",
      "BRD-A02303741:navitoclax (2:1 mol/mol) not found\n",
      "salermide:PLX-4032 (12:1 mol/mol) not found\n",
      "UNC0638:navitoclax (1:1 mol/mol) not found\n",
      "BRD-A02303741:carboplatin (1:1 mol/mol) not found\n",
      "doxorubicin:navitoclax (2:1 mol/mol) not found\n",
      "selumetinib:UNC0638 (4:1 mol/mol) not found\n",
      "alisertib:navitoclax (2:1 mol/mol) not found\n",
      "navitoclax:sorafenib (1:1 mol/mol) not found\n",
      "navitoclax:piperlongumine (1:1 mol/mol) not found\n",
      "vorinostat:navitoclax (4:1 mol/mol) not found\n",
      "BRD-K03911514 not found\n",
      "BRD-K16130065 not found\n",
      "erlotinib:PLX-4032 (2:1 mol/mol) not found\n",
      "BRD-K58730230 not found\n",
      "BRD-K27188169 not found\n",
      "JQ-1:vorinostat (2:1 mol/mol) not found\n",
      "650\n",
      "BRD-K13185470 not found\n",
      "crizotinib:PLX-4032 (2:1 mol/mol) not found\n",
      "BRD-K27188169:navitoclax (2:1 mol/mol) not found\n",
      "BRD-K03536150 not found\n",
      "BRD-K34222889 not found\n",
      "AA-COCF3 not found\n",
      "BRD-K09587429 not found\n",
      "carboplatin:UNC0638 (2:1 mol/mol) not found\n",
      "selumetinib:JQ-1 (4:1 mol/mol) not found\n",
      "decitabine:carboplatin (1:1 mol/mol) not found\n",
      "JQ-1:navitoclax (2:1 mol/mol) not found\n",
      "BRD-K26531177 not found\n",
      "YL54 not found\n",
      "BRD-K09344309 not found\n",
      "700\n",
      "ML334 diastereomer not found\n",
      "BRD-K55473186 not found\n",
      "VAF-347 not found\n",
      "BRD-M00053801 not found\n",
      "BRD-K90370028 not found\n",
      "BRD-K48477130 not found\n",
      "BRD-A05715709 not found\n",
      "BRD-K99006945 not found\n",
      "BRD-K51831558 not found\n",
      "BRD-K42260513 not found\n",
      "CBB-1007 not found\n",
      "BRD-A86708339 not found\n",
      "BCL-LZH-4 not found\n",
      "750\n",
      "BRD-K33514849 not found\n",
      "BRD-K01737880 not found\n",
      "BRD9876:MK-1775 (4:1 mol/mol) not found\n",
      "BRD-K30748066 not found\n"
     ]
    }
   ],
   "source": [
    "smiles = {}\n",
    "cids = {}\n",
    "for i, drug in enumerate(drugs):\n",
    "    compound = pcp.get_compounds(drug, 'name')\n",
    "    if len(compound)>0:\n",
    "        smiles[drug] = compound[0].isomeric_smiles\n",
    "        cids[drug] = compound[0].cid\n",
    "    else:\n",
    "        print(f'{drug} not found')\n",
    "    if i%50 == 0:\n",
    "        print(i)"
   ]
  },
  {
   "cell_type": "code",
   "execution_count": 16,
   "id": "cellular-evaluation",
   "metadata": {},
   "outputs": [
    {
     "data": {
      "text/plain": [
       "1412"
      ]
     },
     "execution_count": 16,
     "metadata": {},
     "output_type": "execute_result"
    }
   ],
   "source": [
    "cell_lines = list(df['cell_name'].unique())\n",
    "len(cell_lines)"
   ]
  },
  {
   "cell_type": "code",
   "execution_count": 2,
   "id": "rural-syracuse",
   "metadata": {},
   "outputs": [
    {
     "data": {
      "text/html": [
       "<div>\n",
       "<style scoped>\n",
       "    .dataframe tbody tr th:only-of-type {\n",
       "        vertical-align: middle;\n",
       "    }\n",
       "\n",
       "    .dataframe tbody tr th {\n",
       "        vertical-align: top;\n",
       "    }\n",
       "\n",
       "    .dataframe thead th {\n",
       "        text-align: right;\n",
       "    }\n",
       "</style>\n",
       "<table border=\"1\" class=\"dataframe\">\n",
       "  <thead>\n",
       "    <tr style=\"text-align: right;\">\n",
       "      <th></th>\n",
       "      <th>drug_row</th>\n",
       "      <th>drug_col</th>\n",
       "      <th>cell_line_name</th>\n",
       "      <th>synergy_loewe</th>\n",
       "    </tr>\n",
       "  </thead>\n",
       "  <tbody>\n",
       "    <tr>\n",
       "      <th>0</th>\n",
       "      <td>(+)-BICUCULLINE</td>\n",
       "      <td>TEMOZOLOMIDE</td>\n",
       "      <td>T98G</td>\n",
       "      <td>4.436431</td>\n",
       "    </tr>\n",
       "    <tr>\n",
       "      <th>1</th>\n",
       "      <td>(+)-JQ1</td>\n",
       "      <td>(+)-JQ1</td>\n",
       "      <td>RD</td>\n",
       "      <td>1.283298</td>\n",
       "    </tr>\n",
       "    <tr>\n",
       "      <th>2</th>\n",
       "      <td>(+)-JQ1</td>\n",
       "      <td>717906-29-1</td>\n",
       "      <td>A-673</td>\n",
       "      <td>-17.246800</td>\n",
       "    </tr>\n",
       "    <tr>\n",
       "      <th>3</th>\n",
       "      <td>(+)-JQ1</td>\n",
       "      <td>MK-2206</td>\n",
       "      <td>RD</td>\n",
       "      <td>0.847213</td>\n",
       "    </tr>\n",
       "    <tr>\n",
       "      <th>4</th>\n",
       "      <td>(+)-JQ1</td>\n",
       "      <td>RUXOLITINIB</td>\n",
       "      <td>L-1236</td>\n",
       "      <td>-30.821293</td>\n",
       "    </tr>\n",
       "  </tbody>\n",
       "</table>\n",
       "</div>"
      ],
      "text/plain": [
       "          drug_row      drug_col cell_line_name  synergy_loewe\n",
       "0  (+)-BICUCULLINE  TEMOZOLOMIDE           T98G       4.436431\n",
       "1          (+)-JQ1       (+)-JQ1             RD       1.283298\n",
       "2          (+)-JQ1   717906-29-1          A-673     -17.246800\n",
       "3          (+)-JQ1       MK-2206             RD       0.847213\n",
       "4          (+)-JQ1   RUXOLITINIB         L-1236     -30.821293"
      ]
     },
     "execution_count": 2,
     "metadata": {},
     "output_type": "execute_result"
    }
   ],
   "source": [
    "mm_df = pd.read_csv('../matchmaker/data/DrugCombinationData.tsv', delimiter='\\t')\n",
    "mm_df.head()"
   ]
  },
  {
   "cell_type": "code",
   "execution_count": 3,
   "id": "surprising-office",
   "metadata": {},
   "outputs": [
    {
     "data": {
      "text/plain": [
       "81"
      ]
     },
     "execution_count": 3,
     "metadata": {},
     "output_type": "execute_result"
    }
   ],
   "source": [
    "mm_cell_lines = list(mm_df['cell_line_name'].unique())\n",
    "len(mm_cell_lines)"
   ]
  },
  {
   "cell_type": "code",
   "execution_count": 40,
   "id": "bigger-crossing",
   "metadata": {},
   "outputs": [
    {
     "data": {
      "text/plain": [
       "3040"
      ]
     },
     "execution_count": 40,
     "metadata": {},
     "output_type": "execute_result"
    }
   ],
   "source": [
    "mm_drugs = list(mm_df['drug_row'].unique())\n",
    "mm_drugs.extend(list(mm_df['drug_col'].unique()))\n",
    "mm_drugs = list(set(mm_drugs))\n",
    "len(mm_drugs)"
   ]
  },
  {
   "cell_type": "code",
   "execution_count": 41,
   "id": "trying-friendship",
   "metadata": {
    "scrolled": true
   },
   "outputs": [
    {
     "name": "stdout",
     "output_type": "stream",
     "text": [
      "717906-29-1\n"
     ]
    }
   ],
   "source": [
    "mm_smiles = {}\n",
    "mm_cids = {}\n",
    "for i, drug in enumerate(mm_drugs):\n",
    "    compound = pcp.get_compounds(drug, 'name')\n",
    "    if len(compound)>0:\n",
    "        mm_smiles[drug] = compound[0].isomeric_smiles\n",
    "        mm_cids[drug] = compound[0].cid\n",
    "    else:\n",
    "        print(f'{drug} not found')\n",
    "    if i%50 == 0:\n",
    "        print(i)"
   ]
  },
  {
   "cell_type": "code",
   "execution_count": 43,
   "id": "known-toolbox",
   "metadata": {},
   "outputs": [
    {
     "name": "stdout",
     "output_type": "stream",
     "text": [
      "[Compound(11598628)]\n"
     ]
    }
   ],
   "source": [
    "compound = pcp.get_compounds('717906-29-1', 'name')\n",
    "print(compound)"
   ]
  },
  {
   "cell_type": "code",
   "execution_count": 44,
   "id": "universal-activity",
   "metadata": {},
   "outputs": [
    {
     "data": {
      "text/plain": [
       "'CN(C1=CC=CC=C1CNC2=NC(=NC=C2C(F)(F)F)NC3=CC4=C(C=C3)NC(=O)C4)S(=O)(=O)C'"
      ]
     },
     "execution_count": 44,
     "metadata": {},
     "output_type": "execute_result"
    }
   ],
   "source": [
    "compound[0].isomeric_smiles"
   ]
  },
  {
   "cell_type": "code",
   "execution_count": 45,
   "id": "occasional-wyoming",
   "metadata": {},
   "outputs": [],
   "source": [
    "mm_smiles['717906-29-1'] = compound[0].isomeric_smiles\n",
    "mm_cids['717906-29-1'] = compound[0].cid"
   ]
  },
  {
   "cell_type": "code",
   "execution_count": 46,
   "id": "identical-express",
   "metadata": {},
   "outputs": [],
   "source": [
    "sm1 = []\n",
    "sm2 = []\n",
    "cell_line = []\n",
    "syn_score = []\n",
    "indeces = []\n",
    "for i, row in mm_df.iterrows():\n",
    "    sm1.append(mm_smiles[row['drug_row']])\n",
    "    sm2.append(mm_smiles[row['drug_col']])\n",
    "    cell_line.append(row['cell_line_name'])\n",
    "    syn_score.append(row['synergy_loewe'])"
   ]
  },
  {
   "cell_type": "code",
   "execution_count": 50,
   "id": "defined-dryer",
   "metadata": {},
   "outputs": [],
   "source": [
    "mm_thesis = pd.DataFrame()\n",
    "mm_thesis['drug1'] = sm1\n",
    "mm_thesis['drug2'] = sm2\n",
    "mm_thesis['cell_line'] = cell_line\n",
    "mm_thesis['loewe'] = syn_score\n",
    "mm_thesis.to_csv('data/DrugCombData.csv', sep=',',index=False,header=False)"
   ]
  },
  {
   "cell_type": "code",
   "execution_count": null,
   "id": "limited-occurrence",
   "metadata": {},
   "outputs": [],
   "source": []
  }
 ],
 "metadata": {
  "kernelspec": {
   "display_name": "Python 3",
   "language": "python",
   "name": "python3"
  },
  "language_info": {
   "codemirror_mode": {
    "name": "ipython",
    "version": 3
   },
   "file_extension": ".py",
   "mimetype": "text/x-python",
   "name": "python",
   "nbconvert_exporter": "python",
   "pygments_lexer": "ipython3",
   "version": "3.7.9"
  }
 },
 "nbformat": 4,
 "nbformat_minor": 5
}
